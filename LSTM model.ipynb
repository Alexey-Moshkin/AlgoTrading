{
 "cells": [
  {
   "cell_type": "code",
   "execution_count": 5,
   "id": "2b1068b8-abcf-403e-bebf-027a8c42ce98",
   "metadata": {},
   "outputs": [],
   "source": [
    "import numpy as np\n",
    "import pandas as pd\n",
    "import pandas_datareader as web\n",
    "import matplotlib.pyplot as plt\n",
    "import datetime as dt\n",
    "\n",
    "from sklearn.preprocessing import MinMaxScaler\n",
    "from tensorflow.keras.models import Sequential\n",
    "from tensorflow.keras.layers import Dense, Dropout, LSTM\n",
    "\n",
    "import warnings\n",
    "warnings.filterwarnings('ignore')"
   ]
  },
  {
   "cell_type": "code",
   "execution_count": 62,
   "id": "d2500d82-f690-477a-8df6-0189f116627c",
   "metadata": {},
   "outputs": [],
   "source": [
    "df2017 = pd.read_csv('data/2017/AAPL.csv')\n",
    "df2018 = pd.read_csv('data/2018/AAPL.csv')\n",
    "df2019 = pd.read_csv('data/2019/AAPL.csv')\n",
    "\n",
    "df = pd.concat([df2017, df2018, df2019])\n",
    "df['date'] = [x[:-6] for x in df['date'].to_list()]\n",
    "df['date'] = pd.to_datetime(df['date'], format = \"%Y-%m-%d %H:%M:%S\")\n",
    "df = df.set_index(pd.DatetimeIndex(df['date']))\n",
    "\n",
    "df = df.drop(['date', 'otc'], axis = 1)"
   ]
  },
  {
   "cell_type": "code",
   "execution_count": 78,
   "id": "96983e80-0534-4854-bb4a-d142ab9a142b",
   "metadata": {},
   "outputs": [],
   "source": [
    "data = df.resample('D').agg({'open': 'first', 'high' : 'max', 'low' : 'min', 'close' : 'last', 'volume': 'sum'}).dropna()"
   ]
  },
  {
   "cell_type": "code",
   "execution_count": 79,
   "id": "40526c61-5659-4d7f-8b0c-f2221b809205",
   "metadata": {},
   "outputs": [
    {
     "data": {
      "text/html": [
       "<div>\n",
       "<style scoped>\n",
       "    .dataframe tbody tr th:only-of-type {\n",
       "        vertical-align: middle;\n",
       "    }\n",
       "\n",
       "    .dataframe tbody tr th {\n",
       "        vertical-align: top;\n",
       "    }\n",
       "\n",
       "    .dataframe thead th {\n",
       "        text-align: right;\n",
       "    }\n",
       "</style>\n",
       "<table border=\"1\" class=\"dataframe\">\n",
       "  <thead>\n",
       "    <tr style=\"text-align: right;\">\n",
       "      <th></th>\n",
       "      <th>open</th>\n",
       "      <th>high</th>\n",
       "      <th>low</th>\n",
       "      <th>close</th>\n",
       "      <th>volume</th>\n",
       "    </tr>\n",
       "    <tr>\n",
       "      <th>date</th>\n",
       "      <th></th>\n",
       "      <th></th>\n",
       "      <th></th>\n",
       "      <th></th>\n",
       "      <th></th>\n",
       "    </tr>\n",
       "  </thead>\n",
       "  <tbody>\n",
       "    <tr>\n",
       "      <th>2017-01-03</th>\n",
       "      <td>28.9500</td>\n",
       "      <td>29.0825</td>\n",
       "      <td>28.6900</td>\n",
       "      <td>29.0225</td>\n",
       "      <td>102572716.0</td>\n",
       "    </tr>\n",
       "    <tr>\n",
       "      <th>2017-01-04</th>\n",
       "      <td>28.9625</td>\n",
       "      <td>29.1275</td>\n",
       "      <td>28.9375</td>\n",
       "      <td>29.0025</td>\n",
       "      <td>74946512.0</td>\n",
       "    </tr>\n",
       "  </tbody>\n",
       "</table>\n",
       "</div>"
      ],
      "text/plain": [
       "               open     high      low    close       volume\n",
       "date                                                       \n",
       "2017-01-03  28.9500  29.0825  28.6900  29.0225  102572716.0\n",
       "2017-01-04  28.9625  29.1275  28.9375  29.0025   74946512.0"
      ]
     },
     "execution_count": 79,
     "metadata": {},
     "output_type": "execute_result"
    }
   ],
   "source": [
    "data.head(2)"
   ]
  },
  {
   "cell_type": "code",
   "execution_count": 66,
   "id": "5167fdc8-6cfe-4653-90b2-d7ff9fe7b96e",
   "metadata": {},
   "outputs": [],
   "source": [
    "scaler = MinMaxScaler(feature_range=(0, 1))\n",
    "\n",
    "scaled_data = scaler.fit_transform(data['close'].values.reshape(-1, 1))"
   ]
  },
  {
   "cell_type": "code",
   "execution_count": 67,
   "id": "536f65eb-1bcb-48c6-ac3a-b95ae85d02a3",
   "metadata": {},
   "outputs": [],
   "source": [
    "prediction_days = 90"
   ]
  },
  {
   "cell_type": "code",
   "execution_count": 68,
   "id": "9bb442ab-c293-4f95-8aa1-e78f02e1fc63",
   "metadata": {},
   "outputs": [],
   "source": [
    "x_train = []\n",
    "y_train = []\n",
    "\n",
    "for x in range(prediction_days, len(scaled_data)):\n",
    "    x_train.append(scaled_data[x-prediction_days:x, 0])\n",
    "    y_train.append(scaled_data[x, 0])"
   ]
  },
  {
   "cell_type": "code",
   "execution_count": 69,
   "id": "e286c9e8-59ee-4b8f-83fc-4cdc0b0636b8",
   "metadata": {},
   "outputs": [],
   "source": [
    "x_train, y_train = np.array(x_train), np.array(y_train)\n",
    "x_train = np.reshape(x_train, (x_train.shape[0], x_train.shape[1], 1))"
   ]
  },
  {
   "cell_type": "code",
   "execution_count": 70,
   "id": "b05bdd24-8028-46d4-a145-21d41a9ccb1c",
   "metadata": {
    "tags": []
   },
   "outputs": [
    {
     "name": "stdout",
     "output_type": "stream",
     "text": [
      "Epoch 1/25\n",
      "21/21 [==============================] - 8s 91ms/step - loss: 0.0384\n",
      "Epoch 2/25\n",
      "21/21 [==============================] - 2s 86ms/step - loss: 0.0092\n",
      "Epoch 3/25\n",
      "21/21 [==============================] - 2s 90ms/step - loss: 0.0055\n",
      "Epoch 4/25\n",
      "21/21 [==============================] - 2s 97ms/step - loss: 0.0050\n",
      "Epoch 5/25\n",
      "21/21 [==============================] - 2s 85ms/step - loss: 0.0041\n",
      "Epoch 6/25\n",
      "21/21 [==============================] - 2s 92ms/step - loss: 0.0044\n",
      "Epoch 7/25\n",
      "21/21 [==============================] - 2s 103ms/step - loss: 0.0039\n",
      "Epoch 8/25\n",
      "21/21 [==============================] - 2s 106ms/step - loss: 0.0043\n",
      "Epoch 9/25\n",
      "21/21 [==============================] - 2s 116ms/step - loss: 0.0048\n",
      "Epoch 10/25\n",
      "21/21 [==============================] - 2s 112ms/step - loss: 0.0037\n",
      "Epoch 11/25\n",
      "21/21 [==============================] - 2s 105ms/step - loss: 0.0046\n",
      "Epoch 12/25\n",
      "21/21 [==============================] - 2s 109ms/step - loss: 0.0038\n",
      "Epoch 13/25\n",
      "21/21 [==============================] - 2s 103ms/step - loss: 0.0038\n",
      "Epoch 14/25\n",
      "21/21 [==============================] - 2s 102ms/step - loss: 0.0031\n",
      "Epoch 15/25\n",
      "21/21 [==============================] - 2s 103ms/step - loss: 0.0027\n",
      "Epoch 16/25\n",
      "21/21 [==============================] - 2s 114ms/step - loss: 0.0030\n",
      "Epoch 17/25\n",
      "21/21 [==============================] - 2s 117ms/step - loss: 0.0029\n",
      "Epoch 18/25\n",
      "21/21 [==============================] - 2s 105ms/step - loss: 0.0032\n",
      "Epoch 19/25\n",
      "21/21 [==============================] - 2s 106ms/step - loss: 0.0029\n",
      "Epoch 20/25\n",
      "21/21 [==============================] - 2s 103ms/step - loss: 0.0029\n",
      "Epoch 21/25\n",
      "21/21 [==============================] - 2s 105ms/step - loss: 0.0028\n",
      "Epoch 22/25\n",
      "21/21 [==============================] - 2s 105ms/step - loss: 0.0026\n",
      "Epoch 23/25\n",
      "21/21 [==============================] - 2s 113ms/step - loss: 0.0028\n",
      "Epoch 24/25\n",
      "21/21 [==============================] - 2s 116ms/step - loss: 0.0030\n",
      "Epoch 25/25\n",
      "21/21 [==============================] - 2s 106ms/step - loss: 0.0034\n"
     ]
    },
    {
     "data": {
      "text/plain": [
       "<keras.callbacks.History at 0x149a8e428b0>"
      ]
     },
     "execution_count": 70,
     "metadata": {},
     "output_type": "execute_result"
    }
   ],
   "source": [
    "model = Sequential()\n",
    "\n",
    "model.add(LSTM(units=50, return_sequences=True, input_shape=(x_train.shape[1], 1)))\n",
    "model.add(Dropout(0.2))\n",
    "model.add(LSTM(units=50, return_sequences=True))\n",
    "model.add(Dropout(0.2))\n",
    "model.add(LSTM(units=50))\n",
    "model.add(Dropout(0.2))\n",
    "model.add(Dense(units=1))  ## Prediction of the next closing price\n",
    "\n",
    "model.compile(optimizer='Adam', loss='mean_squared_error')\n",
    "model.fit(x_train, y_train, epochs=25, batch_size=32)"
   ]
  },
  {
   "cell_type": "code",
   "execution_count": null,
   "id": "e069ae20-470d-47de-be6f-367ed775a76e",
   "metadata": {},
   "outputs": [],
   "source": []
  },
  {
   "cell_type": "code",
   "execution_count": 80,
   "id": "845cf612-c1b2-4531-98b5-f4b9096725a1",
   "metadata": {},
   "outputs": [],
   "source": [
    "df2020 = pd.read_csv('data/2021/AAPL.csv')\n",
    "\n",
    "df2020['date'] = [x[:-6] for x in df2020['date'].to_list()]\n",
    "df2020['date'] = pd.to_datetime(df2020['date'], format = \"%Y-%m-%d %H:%M:%S\")\n",
    "df2020 = df2020.set_index(pd.DatetimeIndex(df2020['date']))\n",
    "\n",
    "df2020 = df2020.drop(['date', 'otc'], axis = 1)"
   ]
  },
  {
   "cell_type": "code",
   "execution_count": 81,
   "id": "d68cdd3d-d14d-472c-a569-80051c1bf385",
   "metadata": {},
   "outputs": [],
   "source": [
    "data_test = df2020.resample('D').agg({'open': 'first', 'high' : 'max', 'low' : 'min', 'close' : 'last', 'volume': 'sum'}).dropna()"
   ]
  },
  {
   "cell_type": "code",
   "execution_count": 90,
   "id": "3db96411-f138-44e3-a7ec-ae45de04ab07",
   "metadata": {},
   "outputs": [],
   "source": [
    "actual_price = df2020['close'].values\n",
    "\n",
    "## Concatinating the close values of the train data and the test data\n",
    "\n",
    "total_data = pd.concat((data['close'], data_test['close']), axis=0)\n",
    "\n",
    "model_inputs = total_data[len(total_data) - len(data_test) - prediction_days:].values\n",
    "model_inputs = model_inputs.reshape(-1, 1)\n",
    "model_inputs = scaler.transform(model_inputs)"
   ]
  },
  {
   "cell_type": "code",
   "execution_count": null,
   "id": "d729069a-3edd-43cb-acc4-e2614c09020d",
   "metadata": {},
   "outputs": [],
   "source": []
  },
  {
   "cell_type": "code",
   "execution_count": 91,
   "id": "470a728a-a07e-4f1d-bea4-f5822dcef16c",
   "metadata": {},
   "outputs": [
    {
     "name": "stdout",
     "output_type": "stream",
     "text": [
      "8/8 [==============================] - 0s 35ms/step\n"
     ]
    }
   ],
   "source": [
    "x_test = []\n",
    "\n",
    "for x in range(prediction_days, len(model_inputs)):\n",
    "    x_test.append(model_inputs[x-prediction_days:x, 0])\n",
    "    \n",
    "## Converting into numpy array\n",
    "x_test = np.array(x_test)\n",
    "x_test = np.reshape(x_test, (x_test.shape[0], x_test.shape[1], 1))\n",
    "\n",
    "## Making predictions based on the x_test\n",
    "predicted_price = model.predict(x_test)\n",
    "\n",
    "### Reversing the scaled prices\n",
    "predicted_prices = scaler.inverse_transform(predicted_price)"
   ]
  },
  {
   "cell_type": "code",
   "execution_count": 92,
   "id": "32a97b5f-c9c5-4833-ae2a-aa185427cab1",
   "metadata": {},
   "outputs": [],
   "source": [
    "predicted_price.shape\n",
    "import plotly.graph_objs as go\n",
    "import plotly.express as px"
   ]
  },
  {
   "cell_type": "code",
   "execution_count": 96,
   "id": "13e72e41-58e4-453d-a94b-ffd0fa11f8bb",
   "metadata": {},
   "outputs": [
    {
     "data": {
      "application/vnd.plotly.v1+json": {
       "config": {
        "plotlyServerURL": "https://plot.ly"
       },
       "data": [
        {
         "name": "close price",
         "type": "scatter",
         "y": [
          75.105,
          74.4,
          74.9525,
          74.5625,
          75.75,
          77.4,
          77.59,
          79.25,
          78.1275,
          77.8375,
          78.8125,
          79.685,
          79.1375,
          79.405,
          79.825,
          79.56,
          77.2025,
          79.45,
          81.05,
          80.975,
          77.3925,
          77.1775,
          79.6925,
          80.37,
          81.3225,
          80.0075,
          80.3699,
          79.8525,
          81.775,
          81.2675,
          81.25,
          79.75,
          80.89,
          80.1,
          78.27,
          74.6,
          72.105,
          73.12,
          68.5,
          68.395,
          74.57,
          72.4875,
          75.5,
          73.1525,
          72.2175,
          66.59,
          71.3325,
          68.925,
          62.275,
          69.005,
          60.9575,
          63.025,
          61.5,
          60.96,
          57.3375,
          55.82,
          61.3175,
          61.3225,
          64.345,
          61.98,
          63.6,
          63.3975,
          60.235,
          61.1775,
          60.4125,
          65.405,
          64.8625,
          66.365,
          66.9912,
          68.25,
          71.6875,
          71.1075,
          71.685,
          70.6575,
          69.25,
          67.1875,
          68.925,
          68.7875,
          70.7025,
          70.73,
          69.675,
          71.9325,
          73.3875,
          72.3975,
          73.3475,
          74.375,
          75.1625,
          75.915,
          77.5175,
          78.81,
          77.9575,
          77,
          77.3725,
          76.84,
          78.74,
          78.3475,
          79.7575,
          79.2575,
          79.685,
          79.2725,
          79.485,
          79.7225,
          79.6,
          80.395,
          80.835,
          81.2425,
          80.505,
          82.8125,
          83.355,
          85.995,
          88.175,
          84.225,
          84.725,
          85.7875,
          88.075,
          87.855,
          87.97,
          87.39,
          89.8025,
          91.6975,
          90.1,
          91.1475,
          88.6,
          90.375,
          91.115,
          91,
          91.07,
          93.39,
          93.1125,
          95.3425,
          95.7275,
          95.8625,
          95.705,
          97.11,
          97.725,
          96.2675,
          96.35,
          98.385,
          97,
          97.2525,
          92.9025,
          92.635,
          94.81,
          93.3625,
          95.04,
          96.125,
          106.3,
          108.87,
          109.66,
          110.0125,
          113.8275,
          111.16,
          112.6875,
          109.31,
          112.95,
          115,
          114.8375,
          114.6075,
          115.5625,
          115.75,
          118.3,
          124.525,
          125.865,
          124.875,
          126.5925,
          125.0525,
          124.94,
          129.44,
          134.6,
          131.62,
          120.94,
          120.99,
          113,
          116.9,
          113.42,
          112.17,
          115.36,
          115.58,
          112.08,
          110.45,
          106.91,
          110.15,
          111.8,
          107.25,
          108.25,
          112.31,
          115.03,
          114.11,
          115.56,
          116.85,
          113.14,
          116.45,
          113.16,
          115.08,
          114.97,
          116.99,
          124.49,
          121.2,
          121.23,
          120.67,
          119.1,
          116.16,
          117.41,
          116.98,
          115.79,
          115,
          115.19,
          116.6,
          111.43,
          115.3,
          109.07,
          108.77,
          110.3,
          114.97,
          119.1,
          118.61,
          116.32,
          116.19,
          119.52,
          119.2798,
          119.29,
          120.3,
          119.4,
          118.12,
          118.85,
          117.3698,
          114.05,
          115.13,
          116.09,
          116.46,
          119.58,
          122.73,
          123.11,
          122.81,
          122.25,
          123.6,
          124.36,
          121.61,
          123.34,
          122.35,
          121.73,
          127.79,
          127.75,
          128.65,
          126.655,
          128.35,
          131.74,
          130.99,
          131.9,
          136.69,
          134.8,
          133.7024,
          132.8
         ]
        },
        {
         "name": "predicted price",
         "type": "scatter",
         "y": [
          67.6556167602539,
          68.15576171875,
          68.66979217529297,
          69.18669128417969,
          69.66940307617188,
          70.13168334960938,
          70.61870574951172,
          71.13343811035156,
          71.7140884399414,
          72.30572509765625,
          72.85826873779297,
          73.37039184570312,
          73.8561782836914,
          74.28804016113281,
          74.6596908569336,
          74.97787475585938,
          75.23176574707031,
          75.33656311035156,
          75.36031341552734,
          75.3872299194336,
          75.44503784179688,
          75.4163818359375,
          75.27010345458984,
          75.09741973876953,
          74.95880126953125,
          74.91230773925781,
          74.92285919189453,
          74.98458099365234,
          75.06383514404297,
          75.20887756347656,
          75.40010833740234,
          75.61888885498047,
          75.7930679321289,
          75.93778991699219,
          76.02530670166016,
          75.98938751220703,
          75.70084381103516,
          75.07971954345703,
          74.2023696899414,
          73.0089340209961,
          71.57518768310547,
          70.20738983154297,
          68.98394775390625,
          68.06436920166016,
          67.41954040527344,
          66.99557495117188,
          66.57119750976562,
          66.2239761352539,
          65.8931884765625,
          65.36451721191406,
          64.81273651123047,
          64.0701904296875,
          63.20264434814453,
          62.23060607910156,
          61.19802474975586,
          60.06368637084961,
          58.82476806640625,
          57.682254791259766,
          56.7354621887207,
          56.116477966308594,
          55.79054260253906,
          55.76102066040039,
          55.979984283447266,
          56.29584503173828,
          56.64710235595703,
          56.965599060058594,
          57.3599967956543,
          57.83711624145508,
          58.42520523071289,
          59.12321090698242,
          59.93387222290039,
          60.9227180480957,
          62.043663024902344,
          63.2458381652832,
          64.42406463623047,
          65.45508575439453,
          66.20929718017578,
          66.70536041259766,
          66.96356964111328,
          67.08287048339844,
          67.12044525146484,
          67.08078002929688,
          67.05277252197266,
          67.11344146728516,
          67.24712371826172,
          67.4654312133789,
          67.78274536132812,
          68.20307922363281,
          68.72230529785156,
          69.35884094238281,
          70.12261962890625,
          70.94361877441406,
          71.72696685791016,
          72.42559051513672,
          72.98745727539062,
          73.45880126953125,
          73.83743286132812,
          74.17597961425781,
          74.47007751464844,
          74.73262786865234,
          74.94847869873047,
          75.11919403076172,
          75.25244140625,
          75.34656524658203,
          75.43090057373047,
          75.52806854248047,
          75.65530395507812,
          75.78380584716797,
          75.98014831542969,
          76.26549530029297,
          76.72010803222656,
          77.40813446044922,
          78.1515121459961,
          78.8766860961914,
          79.56202697753906,
          80.2593765258789,
          80.948974609375,
          81.6089096069336,
          82.19058990478516,
          82.75810241699219,
          83.38050079345703,
          83.9913101196289,
          84.59319305419922,
          85.0641860961914,
          85.43653106689453,
          85.74081420898438,
          85.98237609863281,
          86.16854858398438,
          86.39163208007812,
          86.65370178222656,
          87.0296401977539,
          87.5231704711914,
          88.10589599609375,
          88.72515106201172,
          89.38646697998047,
          90.07762908935547,
          90.70508575439453,
          91.23023223876953,
          91.71183013916016,
          92.09671783447266,
          92.38519287109375,
          92.40797424316406,
          92.15177154541016,
          91.74208068847656,
          91.19593811035156,
          90.63516235351562,
          90.16108703613281,
          90.20861053466797,
          90.92650604248047,
          92.28410339355469,
          94.13810729980469,
          96.43855285644531,
          98.87382507324219,
          101.2901611328125,
          103.38585662841797,
          105.19534301757812,
          106.76893615722656,
          108.09253692626953,
          109.1520767211914,
          109.99105834960938,
          110.63240051269531,
          111.19955444335938,
          111.96931457519531,
          112.993896484375,
          114.17000579833984,
          115.47149658203125,
          116.73624420166016,
          117.87104034423828,
          119.0047607421875,
          120.31425476074219,
          121.622314453125,
          122.41162109375,
          122.65158081054688,
          122.06297302246094,
          120.92969512939453,
          119.28368377685547,
          117.25614929199219,
          115.15706634521484,
          113.15863037109375,
          111.23625946044922,
          109.39625549316406,
          107.55146026611328,
          105.88236999511719,
          104.51882934570312,
          103.31710052490234,
          102.31425476074219,
          101.67768859863281,
          101.520751953125,
          101.77136993408203,
          102.40226745605469,
          103.3645248413086,
          104.39242553710938,
          105.50275421142578,
          106.48445129394531,
          107.3526611328125,
          108.08026123046875,
          108.743896484375,
          109.6591796875,
          110.68421936035156,
          111.75234985351562,
          112.76736450195312,
          113.60348510742188,
          114.10205841064453,
          114.31505584716797,
          114.26687622070312,
          113.96599578857422,
          113.44384765625,
          112.77796936035156,
          112.09746551513672,
          111.25096130371094,
          110.43962097167969,
          109.46446228027344,
          108.3502197265625,
          107.21929168701172,
          106.33363342285156,
          105.92159271240234,
          105.9706039428711,
          106.31986236572266,
          106.85884857177734,
          107.62893676757812,
          108.54329681396484,
          109.51945495605469,
          110.524169921875,
          111.45973205566406,
          112.22408294677734,
          112.82096099853516,
          113.18976593017578,
          113.20869445800781,
          112.95986938476562,
          112.55135345458984,
          112.07191467285156,
          111.71126556396484,
          111.64111328125,
          111.87834930419922,
          112.36161804199219,
          112.98982238769531,
          113.73693084716797,
          114.5638427734375,
          115.29253387451172,
          115.9432373046875,
          116.45269012451172,
          116.78779602050781,
          117.20948791503906,
          117.73008728027344,
          118.36771392822266,
          118.99857330322266,
          119.64521789550781,
          120.41121673583984,
          121.2264633178711,
          122.07757568359375,
          123.11095428466797,
          124.18988037109375,
          125.19872283935547
         ]
        }
       ],
       "layout": {
        "height": 500,
        "template": {
         "data": {
          "bar": [
           {
            "error_x": {
             "color": "#2a3f5f"
            },
            "error_y": {
             "color": "#2a3f5f"
            },
            "marker": {
             "line": {
              "color": "#E5ECF6",
              "width": 0.5
             },
             "pattern": {
              "fillmode": "overlay",
              "size": 10,
              "solidity": 0.2
             }
            },
            "type": "bar"
           }
          ],
          "barpolar": [
           {
            "marker": {
             "line": {
              "color": "#E5ECF6",
              "width": 0.5
             },
             "pattern": {
              "fillmode": "overlay",
              "size": 10,
              "solidity": 0.2
             }
            },
            "type": "barpolar"
           }
          ],
          "carpet": [
           {
            "aaxis": {
             "endlinecolor": "#2a3f5f",
             "gridcolor": "white",
             "linecolor": "white",
             "minorgridcolor": "white",
             "startlinecolor": "#2a3f5f"
            },
            "baxis": {
             "endlinecolor": "#2a3f5f",
             "gridcolor": "white",
             "linecolor": "white",
             "minorgridcolor": "white",
             "startlinecolor": "#2a3f5f"
            },
            "type": "carpet"
           }
          ],
          "choropleth": [
           {
            "colorbar": {
             "outlinewidth": 0,
             "ticks": ""
            },
            "type": "choropleth"
           }
          ],
          "contour": [
           {
            "colorbar": {
             "outlinewidth": 0,
             "ticks": ""
            },
            "colorscale": [
             [
              0,
              "#0d0887"
             ],
             [
              0.1111111111111111,
              "#46039f"
             ],
             [
              0.2222222222222222,
              "#7201a8"
             ],
             [
              0.3333333333333333,
              "#9c179e"
             ],
             [
              0.4444444444444444,
              "#bd3786"
             ],
             [
              0.5555555555555556,
              "#d8576b"
             ],
             [
              0.6666666666666666,
              "#ed7953"
             ],
             [
              0.7777777777777778,
              "#fb9f3a"
             ],
             [
              0.8888888888888888,
              "#fdca26"
             ],
             [
              1,
              "#f0f921"
             ]
            ],
            "type": "contour"
           }
          ],
          "contourcarpet": [
           {
            "colorbar": {
             "outlinewidth": 0,
             "ticks": ""
            },
            "type": "contourcarpet"
           }
          ],
          "heatmap": [
           {
            "colorbar": {
             "outlinewidth": 0,
             "ticks": ""
            },
            "colorscale": [
             [
              0,
              "#0d0887"
             ],
             [
              0.1111111111111111,
              "#46039f"
             ],
             [
              0.2222222222222222,
              "#7201a8"
             ],
             [
              0.3333333333333333,
              "#9c179e"
             ],
             [
              0.4444444444444444,
              "#bd3786"
             ],
             [
              0.5555555555555556,
              "#d8576b"
             ],
             [
              0.6666666666666666,
              "#ed7953"
             ],
             [
              0.7777777777777778,
              "#fb9f3a"
             ],
             [
              0.8888888888888888,
              "#fdca26"
             ],
             [
              1,
              "#f0f921"
             ]
            ],
            "type": "heatmap"
           }
          ],
          "heatmapgl": [
           {
            "colorbar": {
             "outlinewidth": 0,
             "ticks": ""
            },
            "colorscale": [
             [
              0,
              "#0d0887"
             ],
             [
              0.1111111111111111,
              "#46039f"
             ],
             [
              0.2222222222222222,
              "#7201a8"
             ],
             [
              0.3333333333333333,
              "#9c179e"
             ],
             [
              0.4444444444444444,
              "#bd3786"
             ],
             [
              0.5555555555555556,
              "#d8576b"
             ],
             [
              0.6666666666666666,
              "#ed7953"
             ],
             [
              0.7777777777777778,
              "#fb9f3a"
             ],
             [
              0.8888888888888888,
              "#fdca26"
             ],
             [
              1,
              "#f0f921"
             ]
            ],
            "type": "heatmapgl"
           }
          ],
          "histogram": [
           {
            "marker": {
             "pattern": {
              "fillmode": "overlay",
              "size": 10,
              "solidity": 0.2
             }
            },
            "type": "histogram"
           }
          ],
          "histogram2d": [
           {
            "colorbar": {
             "outlinewidth": 0,
             "ticks": ""
            },
            "colorscale": [
             [
              0,
              "#0d0887"
             ],
             [
              0.1111111111111111,
              "#46039f"
             ],
             [
              0.2222222222222222,
              "#7201a8"
             ],
             [
              0.3333333333333333,
              "#9c179e"
             ],
             [
              0.4444444444444444,
              "#bd3786"
             ],
             [
              0.5555555555555556,
              "#d8576b"
             ],
             [
              0.6666666666666666,
              "#ed7953"
             ],
             [
              0.7777777777777778,
              "#fb9f3a"
             ],
             [
              0.8888888888888888,
              "#fdca26"
             ],
             [
              1,
              "#f0f921"
             ]
            ],
            "type": "histogram2d"
           }
          ],
          "histogram2dcontour": [
           {
            "colorbar": {
             "outlinewidth": 0,
             "ticks": ""
            },
            "colorscale": [
             [
              0,
              "#0d0887"
             ],
             [
              0.1111111111111111,
              "#46039f"
             ],
             [
              0.2222222222222222,
              "#7201a8"
             ],
             [
              0.3333333333333333,
              "#9c179e"
             ],
             [
              0.4444444444444444,
              "#bd3786"
             ],
             [
              0.5555555555555556,
              "#d8576b"
             ],
             [
              0.6666666666666666,
              "#ed7953"
             ],
             [
              0.7777777777777778,
              "#fb9f3a"
             ],
             [
              0.8888888888888888,
              "#fdca26"
             ],
             [
              1,
              "#f0f921"
             ]
            ],
            "type": "histogram2dcontour"
           }
          ],
          "mesh3d": [
           {
            "colorbar": {
             "outlinewidth": 0,
             "ticks": ""
            },
            "type": "mesh3d"
           }
          ],
          "parcoords": [
           {
            "line": {
             "colorbar": {
              "outlinewidth": 0,
              "ticks": ""
             }
            },
            "type": "parcoords"
           }
          ],
          "pie": [
           {
            "automargin": true,
            "type": "pie"
           }
          ],
          "scatter": [
           {
            "marker": {
             "colorbar": {
              "outlinewidth": 0,
              "ticks": ""
             }
            },
            "type": "scatter"
           }
          ],
          "scatter3d": [
           {
            "line": {
             "colorbar": {
              "outlinewidth": 0,
              "ticks": ""
             }
            },
            "marker": {
             "colorbar": {
              "outlinewidth": 0,
              "ticks": ""
             }
            },
            "type": "scatter3d"
           }
          ],
          "scattercarpet": [
           {
            "marker": {
             "colorbar": {
              "outlinewidth": 0,
              "ticks": ""
             }
            },
            "type": "scattercarpet"
           }
          ],
          "scattergeo": [
           {
            "marker": {
             "colorbar": {
              "outlinewidth": 0,
              "ticks": ""
             }
            },
            "type": "scattergeo"
           }
          ],
          "scattergl": [
           {
            "marker": {
             "colorbar": {
              "outlinewidth": 0,
              "ticks": ""
             }
            },
            "type": "scattergl"
           }
          ],
          "scattermapbox": [
           {
            "marker": {
             "colorbar": {
              "outlinewidth": 0,
              "ticks": ""
             }
            },
            "type": "scattermapbox"
           }
          ],
          "scatterpolar": [
           {
            "marker": {
             "colorbar": {
              "outlinewidth": 0,
              "ticks": ""
             }
            },
            "type": "scatterpolar"
           }
          ],
          "scatterpolargl": [
           {
            "marker": {
             "colorbar": {
              "outlinewidth": 0,
              "ticks": ""
             }
            },
            "type": "scatterpolargl"
           }
          ],
          "scatterternary": [
           {
            "marker": {
             "colorbar": {
              "outlinewidth": 0,
              "ticks": ""
             }
            },
            "type": "scatterternary"
           }
          ],
          "surface": [
           {
            "colorbar": {
             "outlinewidth": 0,
             "ticks": ""
            },
            "colorscale": [
             [
              0,
              "#0d0887"
             ],
             [
              0.1111111111111111,
              "#46039f"
             ],
             [
              0.2222222222222222,
              "#7201a8"
             ],
             [
              0.3333333333333333,
              "#9c179e"
             ],
             [
              0.4444444444444444,
              "#bd3786"
             ],
             [
              0.5555555555555556,
              "#d8576b"
             ],
             [
              0.6666666666666666,
              "#ed7953"
             ],
             [
              0.7777777777777778,
              "#fb9f3a"
             ],
             [
              0.8888888888888888,
              "#fdca26"
             ],
             [
              1,
              "#f0f921"
             ]
            ],
            "type": "surface"
           }
          ],
          "table": [
           {
            "cells": {
             "fill": {
              "color": "#EBF0F8"
             },
             "line": {
              "color": "white"
             }
            },
            "header": {
             "fill": {
              "color": "#C8D4E3"
             },
             "line": {
              "color": "white"
             }
            },
            "type": "table"
           }
          ]
         },
         "layout": {
          "annotationdefaults": {
           "arrowcolor": "#2a3f5f",
           "arrowhead": 0,
           "arrowwidth": 1
          },
          "autotypenumbers": "strict",
          "coloraxis": {
           "colorbar": {
            "outlinewidth": 0,
            "ticks": ""
           }
          },
          "colorscale": {
           "diverging": [
            [
             0,
             "#8e0152"
            ],
            [
             0.1,
             "#c51b7d"
            ],
            [
             0.2,
             "#de77ae"
            ],
            [
             0.3,
             "#f1b6da"
            ],
            [
             0.4,
             "#fde0ef"
            ],
            [
             0.5,
             "#f7f7f7"
            ],
            [
             0.6,
             "#e6f5d0"
            ],
            [
             0.7,
             "#b8e186"
            ],
            [
             0.8,
             "#7fbc41"
            ],
            [
             0.9,
             "#4d9221"
            ],
            [
             1,
             "#276419"
            ]
           ],
           "sequential": [
            [
             0,
             "#0d0887"
            ],
            [
             0.1111111111111111,
             "#46039f"
            ],
            [
             0.2222222222222222,
             "#7201a8"
            ],
            [
             0.3333333333333333,
             "#9c179e"
            ],
            [
             0.4444444444444444,
             "#bd3786"
            ],
            [
             0.5555555555555556,
             "#d8576b"
            ],
            [
             0.6666666666666666,
             "#ed7953"
            ],
            [
             0.7777777777777778,
             "#fb9f3a"
            ],
            [
             0.8888888888888888,
             "#fdca26"
            ],
            [
             1,
             "#f0f921"
            ]
           ],
           "sequentialminus": [
            [
             0,
             "#0d0887"
            ],
            [
             0.1111111111111111,
             "#46039f"
            ],
            [
             0.2222222222222222,
             "#7201a8"
            ],
            [
             0.3333333333333333,
             "#9c179e"
            ],
            [
             0.4444444444444444,
             "#bd3786"
            ],
            [
             0.5555555555555556,
             "#d8576b"
            ],
            [
             0.6666666666666666,
             "#ed7953"
            ],
            [
             0.7777777777777778,
             "#fb9f3a"
            ],
            [
             0.8888888888888888,
             "#fdca26"
            ],
            [
             1,
             "#f0f921"
            ]
           ]
          },
          "colorway": [
           "#636efa",
           "#EF553B",
           "#00cc96",
           "#ab63fa",
           "#FFA15A",
           "#19d3f3",
           "#FF6692",
           "#B6E880",
           "#FF97FF",
           "#FECB52"
          ],
          "font": {
           "color": "#2a3f5f"
          },
          "geo": {
           "bgcolor": "white",
           "lakecolor": "white",
           "landcolor": "#E5ECF6",
           "showlakes": true,
           "showland": true,
           "subunitcolor": "white"
          },
          "hoverlabel": {
           "align": "left"
          },
          "hovermode": "closest",
          "mapbox": {
           "style": "light"
          },
          "paper_bgcolor": "white",
          "plot_bgcolor": "#E5ECF6",
          "polar": {
           "angularaxis": {
            "gridcolor": "white",
            "linecolor": "white",
            "ticks": ""
           },
           "bgcolor": "#E5ECF6",
           "radialaxis": {
            "gridcolor": "white",
            "linecolor": "white",
            "ticks": ""
           }
          },
          "scene": {
           "xaxis": {
            "backgroundcolor": "#E5ECF6",
            "gridcolor": "white",
            "gridwidth": 2,
            "linecolor": "white",
            "showbackground": true,
            "ticks": "",
            "zerolinecolor": "white"
           },
           "yaxis": {
            "backgroundcolor": "#E5ECF6",
            "gridcolor": "white",
            "gridwidth": 2,
            "linecolor": "white",
            "showbackground": true,
            "ticks": "",
            "zerolinecolor": "white"
           },
           "zaxis": {
            "backgroundcolor": "#E5ECF6",
            "gridcolor": "white",
            "gridwidth": 2,
            "linecolor": "white",
            "showbackground": true,
            "ticks": "",
            "zerolinecolor": "white"
           }
          },
          "shapedefaults": {
           "line": {
            "color": "#2a3f5f"
           }
          },
          "ternary": {
           "aaxis": {
            "gridcolor": "white",
            "linecolor": "white",
            "ticks": ""
           },
           "baxis": {
            "gridcolor": "white",
            "linecolor": "white",
            "ticks": ""
           },
           "bgcolor": "#E5ECF6",
           "caxis": {
            "gridcolor": "white",
            "linecolor": "white",
            "ticks": ""
           }
          },
          "title": {
           "x": 0.05
          },
          "xaxis": {
           "automargin": true,
           "gridcolor": "white",
           "linecolor": "white",
           "ticks": "",
           "title": {
            "standoff": 15
           },
           "zerolinecolor": "white",
           "zerolinewidth": 2
          },
          "yaxis": {
           "automargin": true,
           "gridcolor": "white",
           "linecolor": "white",
           "ticks": "",
           "title": {
            "standoff": 15
           },
           "zerolinecolor": "white",
           "zerolinewidth": 2
          }
         }
        },
        "width": 1000,
        "xaxis": {
         "autorange": true,
         "range": [
          0,
          252
         ]
        },
        "yaxis": {
         "autorange": true,
         "range": [
          51.264966252644854,
          141.18605440775553
         ],
         "type": "linear"
        }
       }
      },
      "image/png": "[encoded data removed]",
      "text/html": [
       "<div>                            <div id=\"7a3e1600-2f0a-4c19-8c04-7be472be68ba\" class=\"plotly-graph-div\" style=\"height:500px; width:1000px;\"></div>            <script type=\"text/javascript\">                require([\"plotly\"], function(Plotly) {                    window.PLOTLYENV=window.PLOTLYENV || {};                                    if (document.getElementById(\"7a3e1600-2f0a-4c19-8c04-7be472be68ba\")) {                    Plotly.newPlot(                        \"7a3e1600-2f0a-4c19-8c04-7be472be68ba\",                        [{\"name\":\"close price\",\"y\":[75.105,74.4,74.9525,74.5625,75.75,77.4,77.59,79.25,78.1275,77.8375,78.8125,79.685,79.1375,79.405,79.825,79.56,77.2025,79.45,81.05,80.975,77.3925,77.1775,79.6925,80.37,81.3225,80.0075,80.3699,79.8525,81.775,81.2675,81.25,79.75,80.89,80.1,78.27,74.6,72.105,73.12,68.5,68.395,74.57,72.4875,75.5,73.1525,72.2175,66.59,71.3325,68.925,62.275,69.005,60.9575,63.025,61.5,60.96,57.3375,55.82,61.3175,61.3225,64.345,61.98,63.6,63.3975,60.235,61.1775,60.4125,65.405,64.8625,66.365,66.9912,68.25,71.6875,71.1075,71.685,70.6575,69.25,67.1875,68.925,68.7875,70.7025,70.73,69.675,71.9325,73.3875,72.3975,73.3475,74.375,75.1625,75.915,77.5175,78.81,77.9575,77.0,77.3725,76.84,78.74,78.3475,79.7575,79.2575,79.685,79.2725,79.485,79.7225,79.6,80.395,80.835,81.2425,80.505,82.8125,83.355,85.995,88.175,84.225,84.725,85.7875,88.075,87.855,87.97,87.39,89.8025,91.6975,90.1,91.1475,88.6,90.375,91.115,91.0,91.07,93.39,93.1125,95.3425,95.7275,95.8625,95.705,97.11,97.725,96.2675,96.35,98.385,97.0,97.2525,92.9025,92.635,94.81,93.3625,95.04,96.125,106.3,108.87,109.66,110.0125,113.8275,111.16,112.6875,109.31,112.95,115.0,114.8375,114.6075,115.5625,115.75,118.3,124.525,125.865,124.875,126.5925,125.0525,124.94,129.44,134.6,131.62,120.94,120.99,113.0,116.9,113.42,112.17,115.36,115.58,112.08,110.45,106.91,110.15,111.8,107.25,108.25,112.31,115.03,114.11,115.56,116.85,113.14,116.45,113.16,115.08,114.97,116.99,124.49,121.2,121.23,120.67,119.1,116.16,117.41,116.98,115.79,115.0,115.19,116.6,111.43,115.3,109.07,108.77,110.3,114.97,119.1,118.61,116.32,116.19,119.52,119.2798,119.29,120.3,119.4,118.12,118.85,117.3698,114.05,115.13,116.09,116.46,119.58,122.73,123.11,122.81,122.25,123.6,124.36,121.61,123.34,122.35,121.73,127.79,127.75,128.65,126.655,128.35,131.74,130.99,131.9,136.69,134.8,133.7024,132.8],\"type\":\"scatter\"},{\"name\":\"predicted price\",\"y\":[67.6556167602539,68.15576171875,68.66979217529297,69.18669128417969,69.66940307617188,70.13168334960938,70.61870574951172,71.13343811035156,71.7140884399414,72.30572509765625,72.85826873779297,73.37039184570312,73.8561782836914,74.28804016113281,74.6596908569336,74.97787475585938,75.23176574707031,75.33656311035156,75.36031341552734,75.3872299194336,75.44503784179688,75.4163818359375,75.27010345458984,75.09741973876953,74.95880126953125,74.91230773925781,74.92285919189453,74.98458099365234,75.06383514404297,75.20887756347656,75.40010833740234,75.61888885498047,75.7930679321289,75.93778991699219,76.02530670166016,75.98938751220703,75.70084381103516,75.07971954345703,74.2023696899414,73.0089340209961,71.57518768310547,70.20738983154297,68.98394775390625,68.06436920166016,67.41954040527344,66.99557495117188,66.57119750976562,66.2239761352539,65.8931884765625,65.36451721191406,64.81273651123047,64.0701904296875,63.20264434814453,62.23060607910156,61.19802474975586,60.06368637084961,58.82476806640625,57.682254791259766,56.7354621887207,56.116477966308594,55.79054260253906,55.76102066040039,55.979984283447266,56.29584503173828,56.64710235595703,56.965599060058594,57.3599967956543,57.83711624145508,58.42520523071289,59.12321090698242,59.93387222290039,60.9227180480957,62.043663024902344,63.2458381652832,64.42406463623047,65.45508575439453,66.20929718017578,66.70536041259766,66.96356964111328,67.08287048339844,67.12044525146484,67.08078002929688,67.05277252197266,67.11344146728516,67.24712371826172,67.4654312133789,67.78274536132812,68.20307922363281,68.72230529785156,69.35884094238281,70.12261962890625,70.94361877441406,71.72696685791016,72.42559051513672,72.98745727539062,73.45880126953125,73.83743286132812,74.17597961425781,74.47007751464844,74.73262786865234,74.94847869873047,75.11919403076172,75.25244140625,75.34656524658203,75.43090057373047,75.52806854248047,75.65530395507812,75.78380584716797,75.98014831542969,76.26549530029297,76.72010803222656,77.40813446044922,78.1515121459961,78.8766860961914,79.56202697753906,80.2593765258789,80.948974609375,81.6089096069336,82.19058990478516,82.75810241699219,83.38050079345703,83.9913101196289,84.59319305419922,85.0641860961914,85.43653106689453,85.74081420898438,85.98237609863281,86.16854858398438,86.39163208007812,86.65370178222656,87.0296401977539,87.5231704711914,88.10589599609375,88.72515106201172,89.38646697998047,90.07762908935547,90.70508575439453,91.23023223876953,91.71183013916016,92.09671783447266,92.38519287109375,92.40797424316406,92.15177154541016,91.74208068847656,91.19593811035156,90.63516235351562,90.16108703613281,90.20861053466797,90.92650604248047,92.28410339355469,94.13810729980469,96.43855285644531,98.87382507324219,101.2901611328125,103.38585662841797,105.19534301757812,106.76893615722656,108.09253692626953,109.1520767211914,109.99105834960938,110.63240051269531,111.19955444335938,111.96931457519531,112.993896484375,114.17000579833984,115.47149658203125,116.73624420166016,117.87104034423828,119.0047607421875,120.31425476074219,121.622314453125,122.41162109375,122.65158081054688,122.06297302246094,120.92969512939453,119.28368377685547,117.25614929199219,115.15706634521484,113.15863037109375,111.23625946044922,109.39625549316406,107.55146026611328,105.88236999511719,104.51882934570312,103.31710052490234,102.31425476074219,101.67768859863281,101.520751953125,101.77136993408203,102.40226745605469,103.3645248413086,104.39242553710938,105.50275421142578,106.48445129394531,107.3526611328125,108.08026123046875,108.743896484375,109.6591796875,110.68421936035156,111.75234985351562,112.76736450195312,113.60348510742188,114.10205841064453,114.31505584716797,114.26687622070312,113.96599578857422,113.44384765625,112.77796936035156,112.09746551513672,111.25096130371094,110.43962097167969,109.46446228027344,108.3502197265625,107.21929168701172,106.33363342285156,105.92159271240234,105.9706039428711,106.31986236572266,106.85884857177734,107.62893676757812,108.54329681396484,109.51945495605469,110.524169921875,111.45973205566406,112.22408294677734,112.82096099853516,113.18976593017578,113.20869445800781,112.95986938476562,112.55135345458984,112.07191467285156,111.71126556396484,111.64111328125,111.87834930419922,112.36161804199219,112.98982238769531,113.73693084716797,114.5638427734375,115.29253387451172,115.9432373046875,116.45269012451172,116.78779602050781,117.20948791503906,117.73008728027344,118.36771392822266,118.99857330322266,119.64521789550781,120.41121673583984,121.2264633178711,122.07757568359375,123.11095428466797,124.18988037109375,125.19872283935547],\"type\":\"scatter\"}],                        {\"template\":{\"data\":{\"bar\":[{\"error_x\":{\"color\":\"#2a3f5f\"},\"error_y\":{\"color\":\"#2a3f5f\"},\"marker\":{\"line\":{\"color\":\"#E5ECF6\",\"width\":0.5},\"pattern\":{\"fillmode\":\"overlay\",\"size\":10,\"solidity\":0.2}},\"type\":\"bar\"}],\"barpolar\":[{\"marker\":{\"line\":{\"color\":\"#E5ECF6\",\"width\":0.5},\"pattern\":{\"fillmode\":\"overlay\",\"size\":10,\"solidity\":0.2}},\"type\":\"barpolar\"}],\"carpet\":[{\"aaxis\":{\"endlinecolor\":\"#2a3f5f\",\"gridcolor\":\"white\",\"linecolor\":\"white\",\"minorgridcolor\":\"white\",\"startlinecolor\":\"#2a3f5f\"},\"baxis\":{\"endlinecolor\":\"#2a3f5f\",\"gridcolor\":\"white\",\"linecolor\":\"white\",\"minorgridcolor\":\"white\",\"startlinecolor\":\"#2a3f5f\"},\"type\":\"carpet\"}],\"choropleth\":[{\"colorbar\":{\"outlinewidth\":0,\"ticks\":\"\"},\"type\":\"choropleth\"}],\"contour\":[{\"colorbar\":{\"outlinewidth\":0,\"ticks\":\"\"},\"colorscale\":[[0.0,\"#0d0887\"],[0.1111111111111111,\"#46039f\"],[0.2222222222222222,\"#7201a8\"],[0.3333333333333333,\"#9c179e\"],[0.4444444444444444,\"#bd3786\"],[0.5555555555555556,\"#d8576b\"],[0.6666666666666666,\"#ed7953\"],[0.7777777777777778,\"#fb9f3a\"],[0.8888888888888888,\"#fdca26\"],[1.0,\"#f0f921\"]],\"type\":\"contour\"}],\"contourcarpet\":[{\"colorbar\":{\"outlinewidth\":0,\"ticks\":\"\"},\"type\":\"contourcarpet\"}],\"heatmap\":[{\"colorbar\":{\"outlinewidth\":0,\"ticks\":\"\"},\"colorscale\":[[0.0,\"#0d0887\"],[0.1111111111111111,\"#46039f\"],[0.2222222222222222,\"#7201a8\"],[0.3333333333333333,\"#9c179e\"],[0.4444444444444444,\"#bd3786\"],[0.5555555555555556,\"#d8576b\"],[0.6666666666666666,\"#ed7953\"],[0.7777777777777778,\"#fb9f3a\"],[0.8888888888888888,\"#fdca26\"],[1.0,\"#f0f921\"]],\"type\":\"heatmap\"}],\"heatmapgl\":[{\"colorbar\":{\"outlinewidth\":0,\"ticks\":\"\"},\"colorscale\":[[0.0,\"#0d0887\"],[0.1111111111111111,\"#46039f\"],[0.2222222222222222,\"#7201a8\"],[0.3333333333333333,\"#9c179e\"],[0.4444444444444444,\"#bd3786\"],[0.5555555555555556,\"#d8576b\"],[0.6666666666666666,\"#ed7953\"],[0.7777777777777778,\"#fb9f3a\"],[0.8888888888888888,\"#fdca26\"],[1.0,\"#f0f921\"]],\"type\":\"heatmapgl\"}],\"histogram\":[{\"marker\":{\"pattern\":{\"fillmode\":\"overlay\",\"size\":10,\"solidity\":0.2}},\"type\":\"histogram\"}],\"histogram2d\":[{\"colorbar\":{\"outlinewidth\":0,\"ticks\":\"\"},\"colorscale\":[[0.0,\"#0d0887\"],[0.1111111111111111,\"#46039f\"],[0.2222222222222222,\"#7201a8\"],[0.3333333333333333,\"#9c179e\"],[0.4444444444444444,\"#bd3786\"],[0.5555555555555556,\"#d8576b\"],[0.6666666666666666,\"#ed7953\"],[0.7777777777777778,\"#fb9f3a\"],[0.8888888888888888,\"#fdca26\"],[1.0,\"#f0f921\"]],\"type\":\"histogram2d\"}],\"histogram2dcontour\":[{\"colorbar\":{\"outlinewidth\":0,\"ticks\":\"\"},\"colorscale\":[[0.0,\"#0d0887\"],[0.1111111111111111,\"#46039f\"],[0.2222222222222222,\"#7201a8\"],[0.3333333333333333,\"#9c179e\"],[0.4444444444444444,\"#bd3786\"],[0.5555555555555556,\"#d8576b\"],[0.6666666666666666,\"#ed7953\"],[0.7777777777777778,\"#fb9f3a\"],[0.8888888888888888,\"#fdca26\"],[1.0,\"#f0f921\"]],\"type\":\"histogram2dcontour\"}],\"mesh3d\":[{\"colorbar\":{\"outlinewidth\":0,\"ticks\":\"\"},\"type\":\"mesh3d\"}],\"parcoords\":[{\"line\":{\"colorbar\":{\"outlinewidth\":0,\"ticks\":\"\"}},\"type\":\"parcoords\"}],\"pie\":[{\"automargin\":true,\"type\":\"pie\"}],\"scatter\":[{\"marker\":{\"colorbar\":{\"outlinewidth\":0,\"ticks\":\"\"}},\"type\":\"scatter\"}],\"scatter3d\":[{\"line\":{\"colorbar\":{\"outlinewidth\":0,\"ticks\":\"\"}},\"marker\":{\"colorbar\":{\"outlinewidth\":0,\"ticks\":\"\"}},\"type\":\"scatter3d\"}],\"scattercarpet\":[{\"marker\":{\"colorbar\":{\"outlinewidth\":0,\"ticks\":\"\"}},\"type\":\"scattercarpet\"}],\"scattergeo\":[{\"marker\":{\"colorbar\":{\"outlinewidth\":0,\"ticks\":\"\"}},\"type\":\"scattergeo\"}],\"scattergl\":[{\"marker\":{\"colorbar\":{\"outlinewidth\":0,\"ticks\":\"\"}},\"type\":\"scattergl\"}],\"scattermapbox\":[{\"marker\":{\"colorbar\":{\"outlinewidth\":0,\"ticks\":\"\"}},\"type\":\"scattermapbox\"}],\"scatterpolar\":[{\"marker\":{\"colorbar\":{\"outlinewidth\":0,\"ticks\":\"\"}},\"type\":\"scatterpolar\"}],\"scatterpolargl\":[{\"marker\":{\"colorbar\":{\"outlinewidth\":0,\"ticks\":\"\"}},\"type\":\"scatterpolargl\"}],\"scatterternary\":[{\"marker\":{\"colorbar\":{\"outlinewidth\":0,\"ticks\":\"\"}},\"type\":\"scatterternary\"}],\"surface\":[{\"colorbar\":{\"outlinewidth\":0,\"ticks\":\"\"},\"colorscale\":[[0.0,\"#0d0887\"],[0.1111111111111111,\"#46039f\"],[0.2222222222222222,\"#7201a8\"],[0.3333333333333333,\"#9c179e\"],[0.4444444444444444,\"#bd3786\"],[0.5555555555555556,\"#d8576b\"],[0.6666666666666666,\"#ed7953\"],[0.7777777777777778,\"#fb9f3a\"],[0.8888888888888888,\"#fdca26\"],[1.0,\"#f0f921\"]],\"type\":\"surface\"}],\"table\":[{\"cells\":{\"fill\":{\"color\":\"#EBF0F8\"},\"line\":{\"color\":\"white\"}},\"header\":{\"fill\":{\"color\":\"#C8D4E3\"},\"line\":{\"color\":\"white\"}},\"type\":\"table\"}]},\"layout\":{\"annotationdefaults\":{\"arrowcolor\":\"#2a3f5f\",\"arrowhead\":0,\"arrowwidth\":1},\"autotypenumbers\":\"strict\",\"coloraxis\":{\"colorbar\":{\"outlinewidth\":0,\"ticks\":\"\"}},\"colorscale\":{\"diverging\":[[0,\"#8e0152\"],[0.1,\"#c51b7d\"],[0.2,\"#de77ae\"],[0.3,\"#f1b6da\"],[0.4,\"#fde0ef\"],[0.5,\"#f7f7f7\"],[0.6,\"#e6f5d0\"],[0.7,\"#b8e186\"],[0.8,\"#7fbc41\"],[0.9,\"#4d9221\"],[1,\"#276419\"]],\"sequential\":[[0.0,\"#0d0887\"],[0.1111111111111111,\"#46039f\"],[0.2222222222222222,\"#7201a8\"],[0.3333333333333333,\"#9c179e\"],[0.4444444444444444,\"#bd3786\"],[0.5555555555555556,\"#d8576b\"],[0.6666666666666666,\"#ed7953\"],[0.7777777777777778,\"#fb9f3a\"],[0.8888888888888888,\"#fdca26\"],[1.0,\"#f0f921\"]],\"sequentialminus\":[[0.0,\"#0d0887\"],[0.1111111111111111,\"#46039f\"],[0.2222222222222222,\"#7201a8\"],[0.3333333333333333,\"#9c179e\"],[0.4444444444444444,\"#bd3786\"],[0.5555555555555556,\"#d8576b\"],[0.6666666666666666,\"#ed7953\"],[0.7777777777777778,\"#fb9f3a\"],[0.8888888888888888,\"#fdca26\"],[1.0,\"#f0f921\"]]},\"colorway\":[\"#636efa\",\"#EF553B\",\"#00cc96\",\"#ab63fa\",\"#FFA15A\",\"#19d3f3\",\"#FF6692\",\"#B6E880\",\"#FF97FF\",\"#FECB52\"],\"font\":{\"color\":\"#2a3f5f\"},\"geo\":{\"bgcolor\":\"white\",\"lakecolor\":\"white\",\"landcolor\":\"#E5ECF6\",\"showlakes\":true,\"showland\":true,\"subunitcolor\":\"white\"},\"hoverlabel\":{\"align\":\"left\"},\"hovermode\":\"closest\",\"mapbox\":{\"style\":\"light\"},\"paper_bgcolor\":\"white\",\"plot_bgcolor\":\"#E5ECF6\",\"polar\":{\"angularaxis\":{\"gridcolor\":\"white\",\"linecolor\":\"white\",\"ticks\":\"\"},\"bgcolor\":\"#E5ECF6\",\"radialaxis\":{\"gridcolor\":\"white\",\"linecolor\":\"white\",\"ticks\":\"\"}},\"scene\":{\"xaxis\":{\"backgroundcolor\":\"#E5ECF6\",\"gridcolor\":\"white\",\"gridwidth\":2,\"linecolor\":\"white\",\"showbackground\":true,\"ticks\":\"\",\"zerolinecolor\":\"white\"},\"yaxis\":{\"backgroundcolor\":\"#E5ECF6\",\"gridcolor\":\"white\",\"gridwidth\":2,\"linecolor\":\"white\",\"showbackground\":true,\"ticks\":\"\",\"zerolinecolor\":\"white\"},\"zaxis\":{\"backgroundcolor\":\"#E5ECF6\",\"gridcolor\":\"white\",\"gridwidth\":2,\"linecolor\":\"white\",\"showbackground\":true,\"ticks\":\"\",\"zerolinecolor\":\"white\"}},\"shapedefaults\":{\"line\":{\"color\":\"#2a3f5f\"}},\"ternary\":{\"aaxis\":{\"gridcolor\":\"white\",\"linecolor\":\"white\",\"ticks\":\"\"},\"baxis\":{\"gridcolor\":\"white\",\"linecolor\":\"white\",\"ticks\":\"\"},\"bgcolor\":\"#E5ECF6\",\"caxis\":{\"gridcolor\":\"white\",\"linecolor\":\"white\",\"ticks\":\"\"}},\"title\":{\"x\":0.05},\"xaxis\":{\"automargin\":true,\"gridcolor\":\"white\",\"linecolor\":\"white\",\"ticks\":\"\",\"title\":{\"standoff\":15},\"zerolinecolor\":\"white\",\"zerolinewidth\":2},\"yaxis\":{\"automargin\":true,\"gridcolor\":\"white\",\"linecolor\":\"white\",\"ticks\":\"\",\"title\":{\"standoff\":15},\"zerolinecolor\":\"white\",\"zerolinewidth\":2}}},\"height\":500,\"width\":1000},                        {\"responsive\": true}                    ).then(function(){\n",
       "                            \n",
       "var gd = document.getElementById('7a3e1600-2f0a-4c19-8c04-7be472be68ba');\n",
       "var x = new MutationObserver(function (mutations, observer) {{\n",
       "        var display = window.getComputedStyle(gd).display;\n",
       "        if (!display || display === 'none') {{\n",
       "            console.log([gd, 'removed!']);\n",
       "            Plotly.purge(gd);\n",
       "            observer.disconnect();\n",
       "        }}\n",
       "}});\n",
       "\n",
       "// Listen for the removal of the full notebook cells\n",
       "var notebookContainer = gd.closest('#notebook-container');\n",
       "if (notebookContainer) {{\n",
       "    x.observe(notebookContainer, {childList: true});\n",
       "}}\n",
       "\n",
       "// Listen for the clearing of the current output cell\n",
       "var outputEl = gd.closest('.output');\n",
       "if (outputEl) {{\n",
       "    x.observe(outputEl, {childList: true});\n",
       "}}\n",
       "\n",
       "                        })                };                });            </script>        </div>"
      ]
     },
     "metadata": {},
     "output_type": "display_data"
    }
   ],
   "source": [
    "fig = go.Figure()\n",
    "fig.add_trace(go.Scatter(y=data_test['close'], name = 'close price'))\n",
    "fig.add_trace(go.Scatter(y=predicted_prices[:, 0], name = 'predicted price'))\n",
    "fig.update_layout(height=500, width=1000)\n",
    "fig.show()"
   ]
  },
  {
   "cell_type": "code",
   "execution_count": 129,
   "id": "7c74b778-9ed4-4675-b216-6147f6ae115b",
   "metadata": {},
   "outputs": [],
   "source": [
    "diff = np.array(data_test['close'].to_list()) - predicted_prices[:, 0]"
   ]
  },
  {
   "cell_type": "code",
   "execution_count": 130,
   "id": "18058b4f-dd26-4083-9f1f-c619fdc90e87",
   "metadata": {},
   "outputs": [
    {
     "data": {
      "text/plain": [
       "array([7.44938324, 6.24423828, 6.28270782, 5.37580872, 6.08059692,\n",
       "       7.26831665, 6.97129425, 8.11656189, 6.41341156, 5.5317749 ])"
      ]
     },
     "execution_count": 130,
     "metadata": {},
     "output_type": "execute_result"
    }
   ],
   "source": [
    "diff[:10]"
   ]
  },
  {
   "cell_type": "code",
   "execution_count": 131,
   "id": "3bf7181e-d16d-48d8-a3c2-1b70bd37e53f",
   "metadata": {},
   "outputs": [
    {
     "data": {
      "application/vnd.plotly.v1+json": {
       "config": {
        "plotlyServerURL": "https://plot.ly"
       },
       "data": [
        {
         "name": "close price",
         "type": "scatter",
         "y": [
          7.449383239746098,
          6.244238281250006,
          6.282707824707032,
          5.3758087158203125,
          6.080596923828125,
          7.268316650390631,
          6.971294250488285,
          8.116561889648438,
          6.4134115600585915,
          5.531774902343756,
          5.954231262207031,
          6.314608154296877,
          5.281321716308597,
          5.116959838867189,
          5.165309143066409,
          4.582125244140627,
          1.970734252929688,
          4.11343688964844,
          5.689686584472653,
          5.587770080566401,
          1.9474621582031233,
          1.7611181640624949,
          4.422396545410152,
          5.272580261230473,
          6.363698730468755,
          5.095192260742181,
          5.44704080810547,
          4.8679190063476625,
          6.711164855957037,
          6.058622436523436,
          5.849891662597656,
          4.131111145019531,
          5.096932067871094,
          4.162210083007807,
          2.2446932983398398,
          -1.389387512207037,
          -3.5958438110351523,
          -1.9597195434570267,
          -5.702369689941406,
          -4.613934020996098,
          2.9948123168945244,
          2.2801101684570284,
          6.51605224609375,
          5.088130798339847,
          4.797959594726564,
          -0.4055749511718716,
          4.761302490234371,
          2.701023864746091,
          -3.6181884765625014,
          3.640482788085933,
          -3.8552365112304656,
          -1.0451904296875014,
          -1.7026443481445312,
          -1.2706060791015616,
          -3.860524749755861,
          -4.243686370849609,
          2.4927319335937526,
          3.6402452087402324,
          7.609537811279296,
          5.863522033691403,
          7.809457397460939,
          7.63647933959961,
          4.255015716552734,
          4.881654968261721,
          3.76539764404297,
          8.439400939941407,
          7.5025032043457,
          8.527883758544917,
          8.565994769287116,
          9.126789093017578,
          11.75362777709961,
          10.184781951904299,
          9.641336975097659,
          7.411661834716796,
          4.825935363769531,
          1.7324142456054688,
          2.715702819824216,
          2.082139587402338,
          3.7389303588867193,
          3.6471295166015665,
          2.5545547485351534,
          4.8517199707031295,
          6.334727478027347,
          5.2840585327148375,
          6.100376281738278,
          6.909568786621094,
          7.379754638671869,
          7.711920776367194,
          8.795194702148436,
          9.45115905761719,
          7.834880371093746,
          6.0563812255859375,
          5.645533142089846,
          4.414409484863285,
          5.75254272460937,
          4.888698730468747,
          5.920067138671868,
          5.081520385742181,
          5.214922485351565,
          4.53987213134765,
          4.536521301269531,
          4.603305969238278,
          4.347558593749994,
          5.048434753417965,
          5.404099426269525,
          5.714431457519538,
          4.8496960449218705,
          7.028694152832031,
          7.3748516845703165,
          9.729504699707036,
          11.454891967773435,
          6.816865539550776,
          6.573487854003901,
          6.910813903808588,
          8.51297302246094,
          7.595623474121098,
          7.021025390624999,
          5.781090393066407,
          7.611910095214839,
          8.939397583007818,
          6.719499206542963,
          7.1561898803710875,
          4.006806945800776,
          5.310813903808594,
          5.678468933105464,
          5.259185791015625,
          5.087623901367181,
          7.221451416015626,
          6.720867919921872,
          8.688798217773439,
          8.6978598022461,
          8.339329528808591,
          7.599104003906248,
          8.38484893798828,
          8.338533020019526,
          6.1898709106445295,
          5.644914245605463,
          7.154767761230474,
          5.288169860839844,
          5.1557821655273415,
          0.5173071289062534,
          0.22702575683594262,
          2.658228454589846,
          1.6204193115234347,
          3.8440618896484438,
          5.489837646484375,
          16.138912963867185,
          18.661389465332036,
          18.733493957519528,
          17.728396606445315,
          19.689392700195313,
          14.721447143554684,
          13.813674926757812,
          8.019838867187502,
          9.564143371582034,
          9.804656982421875,
          8.068563842773443,
          6.5149630737304705,
          6.410423278808594,
          5.758941650390625,
          7.667599487304685,
          13.32544555664063,
          13.895685424804682,
          11.881103515625,
          12.422494201660157,
          9.581003417968745,
          8.203755798339841,
          11.568959655761716,
          15.595239257812494,
          11.305745239257817,
          -0.6823144531250023,
          -1.4216210937500051,
          -9.651580810546875,
          -5.162973022460932,
          -7.5096951293945295,
          -7.113683776855467,
          -1.896149291992188,
          0.42293365478515454,
          -1.0786303710937517,
          -0.7862594604492159,
          -2.486255493164066,
          2.5985397338867244,
          5.91763000488281,
          2.731170654296875,
          4.932899475097656,
          9.995745239257815,
          13.352311401367189,
          12.589248046875,
          13.788630065917971,
          14.447732543945307,
          9.775475158691407,
          12.057574462890628,
          7.657245788574215,
          8.595548706054686,
          7.617338867187499,
          8.909738769531245,
          15.746103515624995,
          11.540820312500003,
          10.545780639648441,
          8.917650146484377,
          6.332635498046869,
          2.5565148925781216,
          3.3079415893554653,
          2.6649441528320352,
          1.5231237792968813,
          1.0340042114257812,
          1.7461523437499977,
          3.822030639648432,
          -0.6674655151367119,
          4.04903869628906,
          -1.3696209716796943,
          -0.6944622802734415,
          1.9497802734374972,
          7.75070831298828,
          12.766366577148432,
          12.688407287597656,
          10.3493960571289,
          9.870137634277341,
          12.661151428222652,
          11.65086323242187,
          10.746703186035163,
          10.78054504394531,
          8.875830078125006,
          6.660267944335942,
          6.625917053222651,
          4.548839001464842,
          0.8602340698242159,
          1.921305541992183,
          3.1301306152343784,
          3.90864654541015,
          7.508085327148436,
          11.01873443603516,
          11.46888671875,
          10.931650695800784,
          9.888381958007812,
          10.610177612304682,
          10.62306915283203,
          7.046157226562499,
          8.047466125488285,
          6.406762695312494,
          5.277309875488285,
          11.002203979492194,
          10.540512084960938,
          10.919912719726568,
          8.287286071777345,
          9.351426696777338,
          12.094782104492197,
          10.578783264160165,
          10.673536682128912,
          14.612424316406248,
          11.689045715332043,
          9.512519628906261,
          7.601277160644543
         ]
        }
       ],
       "layout": {
        "autosize": true,
        "template": {
         "data": {
          "bar": [
           {
            "error_x": {
             "color": "#2a3f5f"
            },
            "error_y": {
             "color": "#2a3f5f"
            },
            "marker": {
             "line": {
              "color": "#E5ECF6",
              "width": 0.5
             },
             "pattern": {
              "fillmode": "overlay",
              "size": 10,
              "solidity": 0.2
             }
            },
            "type": "bar"
           }
          ],
          "barpolar": [
           {
            "marker": {
             "line": {
              "color": "#E5ECF6",
              "width": 0.5
             },
             "pattern": {
              "fillmode": "overlay",
              "size": 10,
              "solidity": 0.2
             }
            },
            "type": "barpolar"
           }
          ],
          "carpet": [
           {
            "aaxis": {
             "endlinecolor": "#2a3f5f",
             "gridcolor": "white",
             "linecolor": "white",
             "minorgridcolor": "white",
             "startlinecolor": "#2a3f5f"
            },
            "baxis": {
             "endlinecolor": "#2a3f5f",
             "gridcolor": "white",
             "linecolor": "white",
             "minorgridcolor": "white",
             "startlinecolor": "#2a3f5f"
            },
            "type": "carpet"
           }
          ],
          "choropleth": [
           {
            "colorbar": {
             "outlinewidth": 0,
             "ticks": ""
            },
            "type": "choropleth"
           }
          ],
          "contour": [
           {
            "colorbar": {
             "outlinewidth": 0,
             "ticks": ""
            },
            "colorscale": [
             [
              0,
              "#0d0887"
             ],
             [
              0.1111111111111111,
              "#46039f"
             ],
             [
              0.2222222222222222,
              "#7201a8"
             ],
             [
              0.3333333333333333,
              "#9c179e"
             ],
             [
              0.4444444444444444,
              "#bd3786"
             ],
             [
              0.5555555555555556,
              "#d8576b"
             ],
             [
              0.6666666666666666,
              "#ed7953"
             ],
             [
              0.7777777777777778,
              "#fb9f3a"
             ],
             [
              0.8888888888888888,
              "#fdca26"
             ],
             [
              1,
              "#f0f921"
             ]
            ],
            "type": "contour"
           }
          ],
          "contourcarpet": [
           {
            "colorbar": {
             "outlinewidth": 0,
             "ticks": ""
            },
            "type": "contourcarpet"
           }
          ],
          "heatmap": [
           {
            "colorbar": {
             "outlinewidth": 0,
             "ticks": ""
            },
            "colorscale": [
             [
              0,
              "#0d0887"
             ],
             [
              0.1111111111111111,
              "#46039f"
             ],
             [
              0.2222222222222222,
              "#7201a8"
             ],
             [
              0.3333333333333333,
              "#9c179e"
             ],
             [
              0.4444444444444444,
              "#bd3786"
             ],
             [
              0.5555555555555556,
              "#d8576b"
             ],
             [
              0.6666666666666666,
              "#ed7953"
             ],
             [
              0.7777777777777778,
              "#fb9f3a"
             ],
             [
              0.8888888888888888,
              "#fdca26"
             ],
             [
              1,
              "#f0f921"
             ]
            ],
            "type": "heatmap"
           }
          ],
          "heatmapgl": [
           {
            "colorbar": {
             "outlinewidth": 0,
             "ticks": ""
            },
            "colorscale": [
             [
              0,
              "#0d0887"
             ],
             [
              0.1111111111111111,
              "#46039f"
             ],
             [
              0.2222222222222222,
              "#7201a8"
             ],
             [
              0.3333333333333333,
              "#9c179e"
             ],
             [
              0.4444444444444444,
              "#bd3786"
             ],
             [
              0.5555555555555556,
              "#d8576b"
             ],
             [
              0.6666666666666666,
              "#ed7953"
             ],
             [
              0.7777777777777778,
              "#fb9f3a"
             ],
             [
              0.8888888888888888,
              "#fdca26"
             ],
             [
              1,
              "#f0f921"
             ]
            ],
            "type": "heatmapgl"
           }
          ],
          "histogram": [
           {
            "marker": {
             "pattern": {
              "fillmode": "overlay",
              "size": 10,
              "solidity": 0.2
             }
            },
            "type": "histogram"
           }
          ],
          "histogram2d": [
           {
            "colorbar": {
             "outlinewidth": 0,
             "ticks": ""
            },
            "colorscale": [
             [
              0,
              "#0d0887"
             ],
             [
              0.1111111111111111,
              "#46039f"
             ],
             [
              0.2222222222222222,
              "#7201a8"
             ],
             [
              0.3333333333333333,
              "#9c179e"
             ],
             [
              0.4444444444444444,
              "#bd3786"
             ],
             [
              0.5555555555555556,
              "#d8576b"
             ],
             [
              0.6666666666666666,
              "#ed7953"
             ],
             [
              0.7777777777777778,
              "#fb9f3a"
             ],
             [
              0.8888888888888888,
              "#fdca26"
             ],
             [
              1,
              "#f0f921"
             ]
            ],
            "type": "histogram2d"
           }
          ],
          "histogram2dcontour": [
           {
            "colorbar": {
             "outlinewidth": 0,
             "ticks": ""
            },
            "colorscale": [
             [
              0,
              "#0d0887"
             ],
             [
              0.1111111111111111,
              "#46039f"
             ],
             [
              0.2222222222222222,
              "#7201a8"
             ],
             [
              0.3333333333333333,
              "#9c179e"
             ],
             [
              0.4444444444444444,
              "#bd3786"
             ],
             [
              0.5555555555555556,
              "#d8576b"
             ],
             [
              0.6666666666666666,
              "#ed7953"
             ],
             [
              0.7777777777777778,
              "#fb9f3a"
             ],
             [
              0.8888888888888888,
              "#fdca26"
             ],
             [
              1,
              "#f0f921"
             ]
            ],
            "type": "histogram2dcontour"
           }
          ],
          "mesh3d": [
           {
            "colorbar": {
             "outlinewidth": 0,
             "ticks": ""
            },
            "type": "mesh3d"
           }
          ],
          "parcoords": [
           {
            "line": {
             "colorbar": {
              "outlinewidth": 0,
              "ticks": ""
             }
            },
            "type": "parcoords"
           }
          ],
          "pie": [
           {
            "automargin": true,
            "type": "pie"
           }
          ],
          "scatter": [
           {
            "marker": {
             "colorbar": {
              "outlinewidth": 0,
              "ticks": ""
             }
            },
            "type": "scatter"
           }
          ],
          "scatter3d": [
           {
            "line": {
             "colorbar": {
              "outlinewidth": 0,
              "ticks": ""
             }
            },
            "marker": {
             "colorbar": {
              "outlinewidth": 0,
              "ticks": ""
             }
            },
            "type": "scatter3d"
           }
          ],
          "scattercarpet": [
           {
            "marker": {
             "colorbar": {
              "outlinewidth": 0,
              "ticks": ""
             }
            },
            "type": "scattercarpet"
           }
          ],
          "scattergeo": [
           {
            "marker": {
             "colorbar": {
              "outlinewidth": 0,
              "ticks": ""
             }
            },
            "type": "scattergeo"
           }
          ],
          "scattergl": [
           {
            "marker": {
             "colorbar": {
              "outlinewidth": 0,
              "ticks": ""
             }
            },
            "type": "scattergl"
           }
          ],
          "scattermapbox": [
           {
            "marker": {
             "colorbar": {
              "outlinewidth": 0,
              "ticks": ""
             }
            },
            "type": "scattermapbox"
           }
          ],
          "scatterpolar": [
           {
            "marker": {
             "colorbar": {
              "outlinewidth": 0,
              "ticks": ""
             }
            },
            "type": "scatterpolar"
           }
          ],
          "scatterpolargl": [
           {
            "marker": {
             "colorbar": {
              "outlinewidth": 0,
              "ticks": ""
             }
            },
            "type": "scatterpolargl"
           }
          ],
          "scatterternary": [
           {
            "marker": {
             "colorbar": {
              "outlinewidth": 0,
              "ticks": ""
             }
            },
            "type": "scatterternary"
           }
          ],
          "surface": [
           {
            "colorbar": {
             "outlinewidth": 0,
             "ticks": ""
            },
            "colorscale": [
             [
              0,
              "#0d0887"
             ],
             [
              0.1111111111111111,
              "#46039f"
             ],
             [
              0.2222222222222222,
              "#7201a8"
             ],
             [
              0.3333333333333333,
              "#9c179e"
             ],
             [
              0.4444444444444444,
              "#bd3786"
             ],
             [
              0.5555555555555556,
              "#d8576b"
             ],
             [
              0.6666666666666666,
              "#ed7953"
             ],
             [
              0.7777777777777778,
              "#fb9f3a"
             ],
             [
              0.8888888888888888,
              "#fdca26"
             ],
             [
              1,
              "#f0f921"
             ]
            ],
            "type": "surface"
           }
          ],
          "table": [
           {
            "cells": {
             "fill": {
              "color": "#EBF0F8"
             },
             "line": {
              "color": "white"
             }
            },
            "header": {
             "fill": {
              "color": "#C8D4E3"
             },
             "line": {
              "color": "white"
             }
            },
            "type": "table"
           }
          ]
         },
         "layout": {
          "annotationdefaults": {
           "arrowcolor": "#2a3f5f",
           "arrowhead": 0,
           "arrowwidth": 1
          },
          "autotypenumbers": "strict",
          "coloraxis": {
           "colorbar": {
            "outlinewidth": 0,
            "ticks": ""
           }
          },
          "colorscale": {
           "diverging": [
            [
             0,
             "#8e0152"
            ],
            [
             0.1,
             "#c51b7d"
            ],
            [
             0.2,
             "#de77ae"
            ],
            [
             0.3,
             "#f1b6da"
            ],
            [
             0.4,
             "#fde0ef"
            ],
            [
             0.5,
             "#f7f7f7"
            ],
            [
             0.6,
             "#e6f5d0"
            ],
            [
             0.7,
             "#b8e186"
            ],
            [
             0.8,
             "#7fbc41"
            ],
            [
             0.9,
             "#4d9221"
            ],
            [
             1,
             "#276419"
            ]
           ],
           "sequential": [
            [
             0,
             "#0d0887"
            ],
            [
             0.1111111111111111,
             "#46039f"
            ],
            [
             0.2222222222222222,
             "#7201a8"
            ],
            [
             0.3333333333333333,
             "#9c179e"
            ],
            [
             0.4444444444444444,
             "#bd3786"
            ],
            [
             0.5555555555555556,
             "#d8576b"
            ],
            [
             0.6666666666666666,
             "#ed7953"
            ],
            [
             0.7777777777777778,
             "#fb9f3a"
            ],
            [
             0.8888888888888888,
             "#fdca26"
            ],
            [
             1,
             "#f0f921"
            ]
           ],
           "sequentialminus": [
            [
             0,
             "#0d0887"
            ],
            [
             0.1111111111111111,
             "#46039f"
            ],
            [
             0.2222222222222222,
             "#7201a8"
            ],
            [
             0.3333333333333333,
             "#9c179e"
            ],
            [
             0.4444444444444444,
             "#bd3786"
            ],
            [
             0.5555555555555556,
             "#d8576b"
            ],
            [
             0.6666666666666666,
             "#ed7953"
            ],
            [
             0.7777777777777778,
             "#fb9f3a"
            ],
            [
             0.8888888888888888,
             "#fdca26"
            ],
            [
             1,
             "#f0f921"
            ]
           ]
          },
          "colorway": [
           "#636efa",
           "#EF553B",
           "#00cc96",
           "#ab63fa",
           "#FFA15A",
           "#19d3f3",
           "#FF6692",
           "#B6E880",
           "#FF97FF",
           "#FECB52"
          ],
          "font": {
           "color": "#2a3f5f"
          },
          "geo": {
           "bgcolor": "white",
           "lakecolor": "white",
           "landcolor": "#E5ECF6",
           "showlakes": true,
           "showland": true,
           "subunitcolor": "white"
          },
          "hoverlabel": {
           "align": "left"
          },
          "hovermode": "closest",
          "mapbox": {
           "style": "light"
          },
          "paper_bgcolor": "white",
          "plot_bgcolor": "#E5ECF6",
          "polar": {
           "angularaxis": {
            "gridcolor": "white",
            "linecolor": "white",
            "ticks": ""
           },
           "bgcolor": "#E5ECF6",
           "radialaxis": {
            "gridcolor": "white",
            "linecolor": "white",
            "ticks": ""
           }
          },
          "scene": {
           "xaxis": {
            "backgroundcolor": "#E5ECF6",
            "gridcolor": "white",
            "gridwidth": 2,
            "linecolor": "white",
            "showbackground": true,
            "ticks": "",
            "zerolinecolor": "white"
           },
           "yaxis": {
            "backgroundcolor": "#E5ECF6",
            "gridcolor": "white",
            "gridwidth": 2,
            "linecolor": "white",
            "showbackground": true,
            "ticks": "",
            "zerolinecolor": "white"
           },
           "zaxis": {
            "backgroundcolor": "#E5ECF6",
            "gridcolor": "white",
            "gridwidth": 2,
            "linecolor": "white",
            "showbackground": true,
            "ticks": "",
            "zerolinecolor": "white"
           }
          },
          "shapedefaults": {
           "line": {
            "color": "#2a3f5f"
           }
          },
          "ternary": {
           "aaxis": {
            "gridcolor": "white",
            "linecolor": "white",
            "ticks": ""
           },
           "baxis": {
            "gridcolor": "white",
            "linecolor": "white",
            "ticks": ""
           },
           "bgcolor": "#E5ECF6",
           "caxis": {
            "gridcolor": "white",
            "linecolor": "white",
            "ticks": ""
           }
          },
          "title": {
           "x": 0.05
          },
          "xaxis": {
           "automargin": true,
           "gridcolor": "white",
           "linecolor": "white",
           "ticks": "",
           "title": {
            "standoff": 15
           },
           "zerolinecolor": "white",
           "zerolinewidth": 2
          },
          "yaxis": {
           "automargin": true,
           "gridcolor": "white",
           "linecolor": "white",
           "ticks": "",
           "title": {
            "standoff": 15
           },
           "zerolinecolor": "white",
           "zerolinewidth": 2
          }
         }
        },
        "xaxis": {
         "autorange": true,
         "range": [
          0,
          252
         ]
        },
        "yaxis": {
         "autorange": true,
         "range": [
          -11.281634894476996,
          21.319446784125436
         ],
         "type": "linear"
        }
       }
      },
      "image/png": "[encoded data removed]",
      "text/html": [
       "<div>                            <div id=\"bf99a533-207a-403f-b5ea-e28e01865152\" class=\"plotly-graph-div\" style=\"height:525px; width:100%;\"></div>            <script type=\"text/javascript\">                require([\"plotly\"], function(Plotly) {                    window.PLOTLYENV=window.PLOTLYENV || {};                                    if (document.getElementById(\"bf99a533-207a-403f-b5ea-e28e01865152\")) {                    Plotly.newPlot(                        \"bf99a533-207a-403f-b5ea-e28e01865152\",                        [{\"name\":\"close price\",\"y\":[7.449383239746098,6.244238281250006,6.282707824707032,5.3758087158203125,6.080596923828125,7.268316650390631,6.971294250488285,8.116561889648438,6.4134115600585915,5.531774902343756,5.954231262207031,6.314608154296877,5.281321716308597,5.116959838867189,5.165309143066409,4.582125244140627,1.970734252929688,4.11343688964844,5.689686584472653,5.587770080566401,1.9474621582031233,1.7611181640624949,4.422396545410152,5.272580261230473,6.363698730468755,5.095192260742181,5.44704080810547,4.8679190063476625,6.711164855957037,6.058622436523436,5.849891662597656,4.131111145019531,5.096932067871094,4.162210083007807,2.2446932983398398,-1.389387512207037,-3.5958438110351523,-1.9597195434570267,-5.702369689941406,-4.613934020996098,2.9948123168945244,2.2801101684570284,6.51605224609375,5.088130798339847,4.797959594726564,-0.4055749511718716,4.761302490234371,2.701023864746091,-3.6181884765625014,3.640482788085933,-3.8552365112304656,-1.0451904296875014,-1.7026443481445312,-1.2706060791015616,-3.860524749755861,-4.243686370849609,2.4927319335937526,3.6402452087402324,7.609537811279296,5.863522033691403,7.809457397460939,7.63647933959961,4.255015716552734,4.881654968261721,3.76539764404297,8.439400939941407,7.5025032043457,8.527883758544917,8.565994769287116,9.126789093017578,11.75362777709961,10.184781951904299,9.641336975097659,7.411661834716796,4.825935363769531,1.7324142456054688,2.715702819824216,2.082139587402338,3.7389303588867193,3.6471295166015665,2.5545547485351534,4.8517199707031295,6.334727478027347,5.2840585327148375,6.100376281738278,6.909568786621094,7.379754638671869,7.711920776367194,8.795194702148436,9.45115905761719,7.834880371093746,6.0563812255859375,5.645533142089846,4.414409484863285,5.75254272460937,4.888698730468747,5.920067138671868,5.081520385742181,5.214922485351565,4.53987213134765,4.536521301269531,4.603305969238278,4.347558593749994,5.048434753417965,5.404099426269525,5.714431457519538,4.8496960449218705,7.028694152832031,7.3748516845703165,9.729504699707036,11.454891967773435,6.816865539550776,6.573487854003901,6.910813903808588,8.51297302246094,7.595623474121098,7.021025390624999,5.781090393066407,7.611910095214839,8.939397583007818,6.719499206542963,7.1561898803710875,4.006806945800776,5.310813903808594,5.678468933105464,5.259185791015625,5.087623901367181,7.221451416015626,6.720867919921872,8.688798217773439,8.6978598022461,8.339329528808591,7.599104003906248,8.38484893798828,8.338533020019526,6.1898709106445295,5.644914245605463,7.154767761230474,5.288169860839844,5.1557821655273415,0.5173071289062534,0.22702575683594262,2.658228454589846,1.6204193115234347,3.8440618896484438,5.489837646484375,16.138912963867185,18.661389465332036,18.733493957519528,17.728396606445315,19.689392700195313,14.721447143554684,13.813674926757812,8.019838867187502,9.564143371582034,9.804656982421875,8.068563842773443,6.5149630737304705,6.410423278808594,5.758941650390625,7.667599487304685,13.32544555664063,13.895685424804682,11.881103515625,12.422494201660157,9.581003417968745,8.203755798339841,11.568959655761716,15.595239257812494,11.305745239257817,-0.6823144531250023,-1.4216210937500051,-9.651580810546875,-5.162973022460932,-7.5096951293945295,-7.113683776855467,-1.896149291992188,0.42293365478515454,-1.0786303710937517,-0.7862594604492159,-2.486255493164066,2.5985397338867244,5.91763000488281,2.731170654296875,4.932899475097656,9.995745239257815,13.352311401367189,12.589248046875,13.788630065917971,14.447732543945307,9.775475158691407,12.057574462890628,7.657245788574215,8.595548706054686,7.617338867187499,8.909738769531245,15.746103515624995,11.540820312500003,10.545780639648441,8.917650146484377,6.332635498046869,2.5565148925781216,3.3079415893554653,2.6649441528320352,1.5231237792968813,1.0340042114257812,1.7461523437499977,3.822030639648432,-0.6674655151367119,4.04903869628906,-1.3696209716796943,-0.6944622802734415,1.9497802734374972,7.75070831298828,12.766366577148432,12.688407287597656,10.3493960571289,9.870137634277341,12.661151428222652,11.65086323242187,10.746703186035163,10.78054504394531,8.875830078125006,6.660267944335942,6.625917053222651,4.548839001464842,0.8602340698242159,1.921305541992183,3.1301306152343784,3.90864654541015,7.508085327148436,11.01873443603516,11.46888671875,10.931650695800784,9.888381958007812,10.610177612304682,10.62306915283203,7.046157226562499,8.047466125488285,6.406762695312494,5.277309875488285,11.002203979492194,10.540512084960938,10.919912719726568,8.287286071777345,9.351426696777338,12.094782104492197,10.578783264160165,10.673536682128912,14.612424316406248,11.689045715332043,9.512519628906261,7.601277160644543],\"type\":\"scatter\"}],                        {\"template\":{\"data\":{\"bar\":[{\"error_x\":{\"color\":\"#2a3f5f\"},\"error_y\":{\"color\":\"#2a3f5f\"},\"marker\":{\"line\":{\"color\":\"#E5ECF6\",\"width\":0.5},\"pattern\":{\"fillmode\":\"overlay\",\"size\":10,\"solidity\":0.2}},\"type\":\"bar\"}],\"barpolar\":[{\"marker\":{\"line\":{\"color\":\"#E5ECF6\",\"width\":0.5},\"pattern\":{\"fillmode\":\"overlay\",\"size\":10,\"solidity\":0.2}},\"type\":\"barpolar\"}],\"carpet\":[{\"aaxis\":{\"endlinecolor\":\"#2a3f5f\",\"gridcolor\":\"white\",\"linecolor\":\"white\",\"minorgridcolor\":\"white\",\"startlinecolor\":\"#2a3f5f\"},\"baxis\":{\"endlinecolor\":\"#2a3f5f\",\"gridcolor\":\"white\",\"linecolor\":\"white\",\"minorgridcolor\":\"white\",\"startlinecolor\":\"#2a3f5f\"},\"type\":\"carpet\"}],\"choropleth\":[{\"colorbar\":{\"outlinewidth\":0,\"ticks\":\"\"},\"type\":\"choropleth\"}],\"contour\":[{\"colorbar\":{\"outlinewidth\":0,\"ticks\":\"\"},\"colorscale\":[[0.0,\"#0d0887\"],[0.1111111111111111,\"#46039f\"],[0.2222222222222222,\"#7201a8\"],[0.3333333333333333,\"#9c179e\"],[0.4444444444444444,\"#bd3786\"],[0.5555555555555556,\"#d8576b\"],[0.6666666666666666,\"#ed7953\"],[0.7777777777777778,\"#fb9f3a\"],[0.8888888888888888,\"#fdca26\"],[1.0,\"#f0f921\"]],\"type\":\"contour\"}],\"contourcarpet\":[{\"colorbar\":{\"outlinewidth\":0,\"ticks\":\"\"},\"type\":\"contourcarpet\"}],\"heatmap\":[{\"colorbar\":{\"outlinewidth\":0,\"ticks\":\"\"},\"colorscale\":[[0.0,\"#0d0887\"],[0.1111111111111111,\"#46039f\"],[0.2222222222222222,\"#7201a8\"],[0.3333333333333333,\"#9c179e\"],[0.4444444444444444,\"#bd3786\"],[0.5555555555555556,\"#d8576b\"],[0.6666666666666666,\"#ed7953\"],[0.7777777777777778,\"#fb9f3a\"],[0.8888888888888888,\"#fdca26\"],[1.0,\"#f0f921\"]],\"type\":\"heatmap\"}],\"heatmapgl\":[{\"colorbar\":{\"outlinewidth\":0,\"ticks\":\"\"},\"colorscale\":[[0.0,\"#0d0887\"],[0.1111111111111111,\"#46039f\"],[0.2222222222222222,\"#7201a8\"],[0.3333333333333333,\"#9c179e\"],[0.4444444444444444,\"#bd3786\"],[0.5555555555555556,\"#d8576b\"],[0.6666666666666666,\"#ed7953\"],[0.7777777777777778,\"#fb9f3a\"],[0.8888888888888888,\"#fdca26\"],[1.0,\"#f0f921\"]],\"type\":\"heatmapgl\"}],\"histogram\":[{\"marker\":{\"pattern\":{\"fillmode\":\"overlay\",\"size\":10,\"solidity\":0.2}},\"type\":\"histogram\"}],\"histogram2d\":[{\"colorbar\":{\"outlinewidth\":0,\"ticks\":\"\"},\"colorscale\":[[0.0,\"#0d0887\"],[0.1111111111111111,\"#46039f\"],[0.2222222222222222,\"#7201a8\"],[0.3333333333333333,\"#9c179e\"],[0.4444444444444444,\"#bd3786\"],[0.5555555555555556,\"#d8576b\"],[0.6666666666666666,\"#ed7953\"],[0.7777777777777778,\"#fb9f3a\"],[0.8888888888888888,\"#fdca26\"],[1.0,\"#f0f921\"]],\"type\":\"histogram2d\"}],\"histogram2dcontour\":[{\"colorbar\":{\"outlinewidth\":0,\"ticks\":\"\"},\"colorscale\":[[0.0,\"#0d0887\"],[0.1111111111111111,\"#46039f\"],[0.2222222222222222,\"#7201a8\"],[0.3333333333333333,\"#9c179e\"],[0.4444444444444444,\"#bd3786\"],[0.5555555555555556,\"#d8576b\"],[0.6666666666666666,\"#ed7953\"],[0.7777777777777778,\"#fb9f3a\"],[0.8888888888888888,\"#fdca26\"],[1.0,\"#f0f921\"]],\"type\":\"histogram2dcontour\"}],\"mesh3d\":[{\"colorbar\":{\"outlinewidth\":0,\"ticks\":\"\"},\"type\":\"mesh3d\"}],\"parcoords\":[{\"line\":{\"colorbar\":{\"outlinewidth\":0,\"ticks\":\"\"}},\"type\":\"parcoords\"}],\"pie\":[{\"automargin\":true,\"type\":\"pie\"}],\"scatter\":[{\"marker\":{\"colorbar\":{\"outlinewidth\":0,\"ticks\":\"\"}},\"type\":\"scatter\"}],\"scatter3d\":[{\"line\":{\"colorbar\":{\"outlinewidth\":0,\"ticks\":\"\"}},\"marker\":{\"colorbar\":{\"outlinewidth\":0,\"ticks\":\"\"}},\"type\":\"scatter3d\"}],\"scattercarpet\":[{\"marker\":{\"colorbar\":{\"outlinewidth\":0,\"ticks\":\"\"}},\"type\":\"scattercarpet\"}],\"scattergeo\":[{\"marker\":{\"colorbar\":{\"outlinewidth\":0,\"ticks\":\"\"}},\"type\":\"scattergeo\"}],\"scattergl\":[{\"marker\":{\"colorbar\":{\"outlinewidth\":0,\"ticks\":\"\"}},\"type\":\"scattergl\"}],\"scattermapbox\":[{\"marker\":{\"colorbar\":{\"outlinewidth\":0,\"ticks\":\"\"}},\"type\":\"scattermapbox\"}],\"scatterpolar\":[{\"marker\":{\"colorbar\":{\"outlinewidth\":0,\"ticks\":\"\"}},\"type\":\"scatterpolar\"}],\"scatterpolargl\":[{\"marker\":{\"colorbar\":{\"outlinewidth\":0,\"ticks\":\"\"}},\"type\":\"scatterpolargl\"}],\"scatterternary\":[{\"marker\":{\"colorbar\":{\"outlinewidth\":0,\"ticks\":\"\"}},\"type\":\"scatterternary\"}],\"surface\":[{\"colorbar\":{\"outlinewidth\":0,\"ticks\":\"\"},\"colorscale\":[[0.0,\"#0d0887\"],[0.1111111111111111,\"#46039f\"],[0.2222222222222222,\"#7201a8\"],[0.3333333333333333,\"#9c179e\"],[0.4444444444444444,\"#bd3786\"],[0.5555555555555556,\"#d8576b\"],[0.6666666666666666,\"#ed7953\"],[0.7777777777777778,\"#fb9f3a\"],[0.8888888888888888,\"#fdca26\"],[1.0,\"#f0f921\"]],\"type\":\"surface\"}],\"table\":[{\"cells\":{\"fill\":{\"color\":\"#EBF0F8\"},\"line\":{\"color\":\"white\"}},\"header\":{\"fill\":{\"color\":\"#C8D4E3\"},\"line\":{\"color\":\"white\"}},\"type\":\"table\"}]},\"layout\":{\"annotationdefaults\":{\"arrowcolor\":\"#2a3f5f\",\"arrowhead\":0,\"arrowwidth\":1},\"autotypenumbers\":\"strict\",\"coloraxis\":{\"colorbar\":{\"outlinewidth\":0,\"ticks\":\"\"}},\"colorscale\":{\"diverging\":[[0,\"#8e0152\"],[0.1,\"#c51b7d\"],[0.2,\"#de77ae\"],[0.3,\"#f1b6da\"],[0.4,\"#fde0ef\"],[0.5,\"#f7f7f7\"],[0.6,\"#e6f5d0\"],[0.7,\"#b8e186\"],[0.8,\"#7fbc41\"],[0.9,\"#4d9221\"],[1,\"#276419\"]],\"sequential\":[[0.0,\"#0d0887\"],[0.1111111111111111,\"#46039f\"],[0.2222222222222222,\"#7201a8\"],[0.3333333333333333,\"#9c179e\"],[0.4444444444444444,\"#bd3786\"],[0.5555555555555556,\"#d8576b\"],[0.6666666666666666,\"#ed7953\"],[0.7777777777777778,\"#fb9f3a\"],[0.8888888888888888,\"#fdca26\"],[1.0,\"#f0f921\"]],\"sequentialminus\":[[0.0,\"#0d0887\"],[0.1111111111111111,\"#46039f\"],[0.2222222222222222,\"#7201a8\"],[0.3333333333333333,\"#9c179e\"],[0.4444444444444444,\"#bd3786\"],[0.5555555555555556,\"#d8576b\"],[0.6666666666666666,\"#ed7953\"],[0.7777777777777778,\"#fb9f3a\"],[0.8888888888888888,\"#fdca26\"],[1.0,\"#f0f921\"]]},\"colorway\":[\"#636efa\",\"#EF553B\",\"#00cc96\",\"#ab63fa\",\"#FFA15A\",\"#19d3f3\",\"#FF6692\",\"#B6E880\",\"#FF97FF\",\"#FECB52\"],\"font\":{\"color\":\"#2a3f5f\"},\"geo\":{\"bgcolor\":\"white\",\"lakecolor\":\"white\",\"landcolor\":\"#E5ECF6\",\"showlakes\":true,\"showland\":true,\"subunitcolor\":\"white\"},\"hoverlabel\":{\"align\":\"left\"},\"hovermode\":\"closest\",\"mapbox\":{\"style\":\"light\"},\"paper_bgcolor\":\"white\",\"plot_bgcolor\":\"#E5ECF6\",\"polar\":{\"angularaxis\":{\"gridcolor\":\"white\",\"linecolor\":\"white\",\"ticks\":\"\"},\"bgcolor\":\"#E5ECF6\",\"radialaxis\":{\"gridcolor\":\"white\",\"linecolor\":\"white\",\"ticks\":\"\"}},\"scene\":{\"xaxis\":{\"backgroundcolor\":\"#E5ECF6\",\"gridcolor\":\"white\",\"gridwidth\":2,\"linecolor\":\"white\",\"showbackground\":true,\"ticks\":\"\",\"zerolinecolor\":\"white\"},\"yaxis\":{\"backgroundcolor\":\"#E5ECF6\",\"gridcolor\":\"white\",\"gridwidth\":2,\"linecolor\":\"white\",\"showbackground\":true,\"ticks\":\"\",\"zerolinecolor\":\"white\"},\"zaxis\":{\"backgroundcolor\":\"#E5ECF6\",\"gridcolor\":\"white\",\"gridwidth\":2,\"linecolor\":\"white\",\"showbackground\":true,\"ticks\":\"\",\"zerolinecolor\":\"white\"}},\"shapedefaults\":{\"line\":{\"color\":\"#2a3f5f\"}},\"ternary\":{\"aaxis\":{\"gridcolor\":\"white\",\"linecolor\":\"white\",\"ticks\":\"\"},\"baxis\":{\"gridcolor\":\"white\",\"linecolor\":\"white\",\"ticks\":\"\"},\"bgcolor\":\"#E5ECF6\",\"caxis\":{\"gridcolor\":\"white\",\"linecolor\":\"white\",\"ticks\":\"\"}},\"title\":{\"x\":0.05},\"xaxis\":{\"automargin\":true,\"gridcolor\":\"white\",\"linecolor\":\"white\",\"ticks\":\"\",\"title\":{\"standoff\":15},\"zerolinecolor\":\"white\",\"zerolinewidth\":2},\"yaxis\":{\"automargin\":true,\"gridcolor\":\"white\",\"linecolor\":\"white\",\"ticks\":\"\",\"title\":{\"standoff\":15},\"zerolinecolor\":\"white\",\"zerolinewidth\":2}}}},                        {\"responsive\": true}                    ).then(function(){\n",
       "                            \n",
       "var gd = document.getElementById('bf99a533-207a-403f-b5ea-e28e01865152');\n",
       "var x = new MutationObserver(function (mutations, observer) {{\n",
       "        var display = window.getComputedStyle(gd).display;\n",
       "        if (!display || display === 'none') {{\n",
       "            console.log([gd, 'removed!']);\n",
       "            Plotly.purge(gd);\n",
       "            observer.disconnect();\n",
       "        }}\n",
       "}});\n",
       "\n",
       "// Listen for the removal of the full notebook cells\n",
       "var notebookContainer = gd.closest('#notebook-container');\n",
       "if (notebookContainer) {{\n",
       "    x.observe(notebookContainer, {childList: true});\n",
       "}}\n",
       "\n",
       "// Listen for the clearing of the current output cell\n",
       "var outputEl = gd.closest('.output');\n",
       "if (outputEl) {{\n",
       "    x.observe(outputEl, {childList: true});\n",
       "}}\n",
       "\n",
       "                        })                };                });            </script>        </div>"
      ]
     },
     "metadata": {},
     "output_type": "display_data"
    }
   ],
   "source": [
    "fig = go.Figure()\n",
    "fig.add_trace(go.Scatter(y=diff, name = 'close price'))\n",
    "fig.show()"
   ]
  }
 ],
 "metadata": {
  "kernelspec": {
   "display_name": "Python 3 (ipykernel)",
   "language": "python",
   "name": "python3"
  },
  "language_info": {
   "codemirror_mode": {
    "name": "ipython",
    "version": 3
   },
   "file_extension": ".py",
   "mimetype": "text/x-python",
   "name": "python",
   "nbconvert_exporter": "python",
   "pygments_lexer": "ipython3",
   "version": "3.9.12"
  }
 },
 "nbformat": 4,
 "nbformat_minor": 5
}
